{
 "cells": [
  {
   "cell_type": "markdown",
   "metadata": {},
   "source": [
    "# Programmation Python"
   ]
  },
  {
   "cell_type": "markdown",
   "metadata": {},
   "source": [
    "[**Paul Liautaud**](https://perso.lpsm.paris/~liautaud) à [Sorbonne Université](http://www.sorbonne-universite.fr/)"
   ]
  },
  {
   "cell_type": "markdown",
   "metadata": {},
   "source": [
    "# Algèbre Linéaire"
   ]
  },
  {
   "cell_type": "markdown",
   "metadata": {},
   "source": [
    "<div id=\"ch:algebre\"></div>\n",
    "\n",
    "Tout d'abord une méthode de résolution de système linéaire par un algorithme direct est étudiée, puis une méthode itérative sera utilisée pour déterminer le vecteur propre associé à la plus grande valeur propre d'une matrice.\n",
    "\n",
    ">**Concepts abordés:**\n",
    ">* méthode de résolution directe (décomposition LU)\n",
    ">* algorithme *in place*\n",
    ">* méthode itérative (puissance itérée)"
   ]
  },
  {
   "cell_type": "markdown",
   "metadata": {},
   "source": [
    "# Exercice 1 - Décomposition LU"
   ]
  },
  {
   "cell_type": "markdown",
   "metadata": {},
   "source": [
    "<div id=\"exer:algebre-LU\"></div>\n",
    "\n",
    "La décomposition LU consiste à décomposer une matrice $A$ de taille $n \\times n$ sous la forme $A=LU$ où $L$ est une matrice triangulaire inférieure avec des 1 sur la diagonale et $U$ une matrice triangulaire supérieure. Une fois la décomposition $A=LU$ d'une matrice connue, il est alors très facile de résoudre le problème linéaire $A\\boldsymbol{x} = \\boldsymbol{b}$ en résolvant d'abord $L\\boldsymbol{y} = \\boldsymbol{b}$ puis $U\\boldsymbol{x} = \\boldsymbol{y}$. L'avantage de la décomposition LU sur l'algorithme de Gauss, par exemple, est qu'une fois la décomposition LU connue, il est possible de résoudre le système linéaire rapidement avec des seconds membres différents.\n",
    "\n",
    "Vu que $l_{ik}=0$ si $k>i$, nous avons:"
   ]
  },
  {
   "cell_type": "markdown",
   "metadata": {},
   "source": [
    "$$\n",
    "a_{ij} = \\sum_{k=1}^n l_{ik}u_{kj} = l_{ii}u_{ij} + \\sum_{k=1}^{i-1} l_{ik}u_{kj} \\,,\n",
    "$$"
   ]
  },
  {
   "cell_type": "markdown",
   "metadata": {},
   "source": [
    "et donc comme $l_{ii}=1$:"
   ]
  },
  {
   "cell_type": "markdown",
   "metadata": {},
   "source": [
    "$$\n",
    "u_{ij} = a_{ij} - \\sum_{k=1}^{i-1} l_{ik}u_{kj} \\,.\n",
    "$$"
   ]
  },
  {
   "cell_type": "markdown",
   "metadata": {},
   "source": [
    "D'un autre côté, vu que $u_{kj}=0$ si $k>j$, alors:"
   ]
  },
  {
   "cell_type": "markdown",
   "metadata": {},
   "source": [
    "$$\n",
    "a_{ij} = \\sum_{k=1}^n l_{ik}u_{kj} = l_{ij}u_{jj} + \\sum_{k=1}^{j-1} l_{ik}u_{kj} \\,,\n",
    "$$"
   ]
  },
  {
   "cell_type": "markdown",
   "metadata": {},
   "source": [
    "et donc si $u_{jj}\\neq0$:"
   ]
  },
  {
   "cell_type": "markdown",
   "metadata": {},
   "source": [
    "$$\n",
    "l_{ij} = \\frac{1}{u_{jj}} \\left( a_{ij} - \\sum_{k=1}^{j-1} l_{ik}u_{kj} \\right) \\,.\n",
    "$$"
   ]
  },
  {
   "cell_type": "markdown",
   "metadata": {},
   "source": [
    "Ainsi, si les $(i-1)$ premières lignes de $U$ et les $(i-1)$ premières colonnes de $L$ sont connues, il est possible de déterminer la $i$-ème ligne de $U$ par:"
   ]
  },
  {
   "cell_type": "markdown",
   "metadata": {},
   "source": [
    "$$\n",
    "u_{ij} = a_{ij} - \\sum_{k=1}^{i-1} l_{ik}u_{kj} \\,, \\quad j \\geq i \\,,\n",
    "$$"
   ]
  },
  {
   "cell_type": "markdown",
   "metadata": {},
   "source": [
    "puis la $i$-ème colonne de $L$ par:"
   ]
  },
  {
   "cell_type": "markdown",
   "metadata": {},
   "source": [
    "$$\n",
    "l_{ji} = \\frac{1}{u_{ii}} \\left( a_{ji} - \\sum_{k=1}^{i-1} l_{jk}u_{ki} \\right) \\,, \\quad j > i\\  \\,.\n",
    "$$"
   ]
  },
  {
   "cell_type": "markdown",
   "metadata": {},
   "source": [
    "Pour que la décomposition LU d'une matrice $A$ soit possible il faut que les $u_{ii}$ ne soient jamais nuls. Cela est effectivement le cas lorsque la matrice $A$ et toutes ses sous-matrices principales sont inversibles.\n",
    "\n",
    "**a)**\n",
    "Écrire une fonction `LU(A)` qui retourne le résultat de la décomposition LU d'une matrice.\n",
    "\n"
   ]
  },
  {
   "cell_type": "markdown",
   "metadata": {},
   "source": [
    "\n",
    "**b)**\n",
    "Donnée la décomposition LU d'une matrice $A$, écrire une fonction `solve(L,U,b)` qui résout le système linéaire $A\\boldsymbol{x} =  \\boldsymbol{b}$.\n",
    "\n"
   ]
  },
  {
   "cell_type": "markdown",
   "metadata": {},
   "source": [
    "\n",
    "**c)**\n",
    "Écrire une fonction `LU_inplace(A)` qui ne crée pas de nouveaux tableaux pour $L$ et $U$ mais modifie $A$ de sorte que sa partie triangulaire inférieure (sans la diagonale) corresponde à $L$ et sa partie triangulaire supérieure (avec la diagonale) corresponde à $U$. Faire également une version `solve_inplace` prenant en entrée la sortie de `LU_inplace` et retournant la solution $\\boldsymbol{x}$, sans utiliser de nouveaux tableaux.\n",
    "\n"
   ]
  },
  {
   "cell_type": "markdown",
   "metadata": {},
   "source": [
    "\n",
    "**d)**\n",
    "En utilisant la décomposition LU de la matrice $A$, écrire une fonction `det(A)` qui retourne son déterminant.\n",
    "\n"
   ]
  },
  {
   "cell_type": "markdown",
   "metadata": {},
   "source": [
    "# Exercice 2 - Exponentielle de matrice"
   ]
  },
  {
   "cell_type": "markdown",
   "metadata": {},
   "source": [
    "Le but de cet exerccie est de développer un algorithme permettant de calculer l'exponentielle d'une matrice réelle carrée. Si $A$ est une matrice réelle carrée, son exponentielle est définie par la série :\n",
    "$$\\exp(A) = \\sum_{k\\geq 0} \\frac{A^k}{k!},$$\n",
    "par analogie avec le développement en série de l'exponentielle sur les nombres réelles. Ici $A^k$ représente le produit matriciel de $A$ avec elle-même $k$ fois.\n",
    "\n",
    "**a)** Définir les tableaux Numpy correspondants aux matrices $A_1$ et $A_2$ définies par :\n",
    "\n",
    "$$A_1 = \\begin{pmatrix} 1 & 0.8 & 0.6 \\\\ 0.8&0.2&0.8\\\\ 0&1.2&0.9\\end{pmatrix}, \\quad A_2 = \\begin{pmatrix} 2&3&2 \\\\ 1&2&3\\\\ 4&3&5.2\\end{pmatrix}$$"
   ]
  },
  {
   "cell_type": "markdown",
   "metadata": {},
   "source": [
    "**b)** Définir une fonction `matrix_exp(A,n=20)` retournant une approximation de $\\exp(A)$ obtenue en gardant uniquement les $n+1$ premiers termes de la série."
   ]
  },
  {
   "cell_type": "markdown",
   "metadata": {},
   "source": [
    "**c)** Tester sur les matrices $A_1$ et $A_2$ et compararer avec les résultats de la fonction `expm`du module `linalg` de Scipy."
   ]
  },
  {
   "cell_type": "markdown",
   "metadata": {},
   "source": [
    "**d)** Sans utiliser la fonction `norm` de Numpy ou Scipy, définir une fonction calculant la norme de Frobenius $\\|A\\|_F$ d'une matrice $A$ de taille $m \\times m$ définie par: $$\\|A\\|_F^2 = \\operatorname{tr}(AA^\\top) = \\sum_{i=1}^m\\sum_{j=1}^m |a_{ij}|^2.$$\n",
    "\n",
    "Calculer les normes de Frobenius des matrices $A_1$ et $A_2$."
   ]
  },
  {
   "cell_type": "markdown",
   "metadata": {},
   "source": [
    "**e)** Pour les matrices $A_1$ et $A_2$, tracer l'erreur en norme de Frobenius entre le résultat de notre `matrix_power` et le résultat de `expm` en fonction du nomnre de termes $n$ gardés. Mettre une échelle logarithmique sur l'axe des ordonnées. <br>"
   ]
  },
  {
   "cell_type": "markdown",
   "metadata": {},
   "source": [
    "D'un point de vue théorique, il est possible de montrer que l'erreur est bornée par :\n",
    "$$\\left\\|\\exp(A) - \\sum_{k=0}^n \\frac{A^k}{k!}\\right\\|_F \\leq \\frac{\\exp(\\|A\\|_F)}{(n+1)!}\\|A\\|_F^{n+1}.$$"
   ]
  },
  {
   "cell_type": "markdown",
   "metadata": {},
   "source": [
    "**f)** Tracer cette borne en fonctioon de $n$ pour différentes valeurs de la norme $\\|A\\|_F$ allant de $2$ à $20$, avec également une échelle logarithmique sur l'axe des ordonnées. En déduire grossièrement le nombre de termes à garder pour que la borne soit inférieure à la précision machine de $10^{-15}$ si $\\|A\\|_F = 20$. Comparer la borne théorique avec ce qui a été observé à la question précédente. <br>"
   ]
  },
  {
   "cell_type": "markdown",
   "metadata": {},
   "source": [
    "Une idée basique pour améliorer la convergence de la série lorsque la norme de la matrice est grande, est d'effectuer un changement d'échelle à l'aide de la relation :\n",
    "$$\\exp(A) = \\left(\\exp(A/p)\\right)^p,$$\n",
    "pour $p\\geq 1$ un entier bien choisi tel que $\\|A/p\\|_F$ soit petite, par eemple inférieure à $1$. <br>"
   ]
  },
  {
   "cell_type": "markdown",
   "metadata": {},
   "source": [
    "**g)** Écrire une fonction `matrix_exp_opt(A,n=20)` fondée sur cette propriété."
   ]
  },
  {
   "cell_type": "markdown",
   "metadata": {},
   "source": [
    "**h)** Refaire le même graphique qu'en question e) mais avec cette nouvelle fonction `matric_exp_opt` et commenter."
   ]
  },
  {
   "cell_type": "markdown",
   "metadata": {},
   "source": [
    "# Exercice 3 - Méthode de la puissance itérée"
   ]
  },
  {
   "cell_type": "markdown",
   "metadata": {},
   "source": [
    "<div id=\"exer:algebre-power\"></div>\n",
    "\n",
    "Le but de cet exercice est de déterminer le vecteur propre d'une matrice associé à la valeur propre de plus grand module, en supposant que celle-ci est unique. Étant donné une matrice réelle $A$ de taille $n\\times n$ et un vecteur $\\boldsymbol{x}_0\\in\\mathbb{R}^n$, la suite de vecteurs $(\\boldsymbol{x}_k)_ {k\\in\\mathbb{N}}$ est définie par:"
   ]
  },
  {
   "cell_type": "markdown",
   "metadata": {},
   "source": [
    "$$\n",
    "\\boldsymbol{x}_{k+1} = \\frac{A\\boldsymbol{x}_k}{\\Vert A\\boldsymbol{x}_k\\Vert} \\,.\n",
    "$$"
   ]
  },
  {
   "cell_type": "markdown",
   "metadata": {},
   "source": [
    "En supposant par exemple que la matrice $A$ soit diagonalisable, alors il est possible de montrer que la suite $(\\boldsymbol{x}_k)_ {k\\in\\mathbb{N}}$ converge à un signe près vers le vecteur propre associé à la plus grande valeur propre de $A$ en valeur absolue.\n",
    "\n",
    "**Indication:**\n",
    "La première étape est de remarquer que:"
   ]
  },
  {
   "cell_type": "markdown",
   "metadata": {},
   "source": [
    "$$\n",
    "\\boldsymbol{x}_k = \\frac{A^2 \\boldsymbol{x}_{k-2}}{\\Vert A^2 \\boldsymbol{x}_{k-2}\\Vert} = \\dots = \\frac{A^k \\boldsymbol{x}_0}{\\Vert A^k \\boldsymbol{x}_0\\Vert} \\,.\n",
    "$$"
   ]
  },
  {
   "cell_type": "markdown",
   "metadata": {},
   "source": [
    "Vu que $A$ est diagonalisable, soit ($\\boldsymbol{v}_1, \\boldsymbol{v}_2, \\dots, \\boldsymbol{v}_n)$ une base de vecteurs propres de $A$ associés aux valeurs propres $\\lambda_1, \\lambda_2, \\dots, \\lambda_n$. Sans perte de généralité, on suppose que $\\lambda_1$ est la valeur propre de plus grand module, c'est-à-dire $|\\lambda_1|>\\max(|\\lambda_2|,|\\lambda_3|,\\dots,|\\lambda_n|)$. Le vecteur $\\boldsymbol{x}_0$ se décompose dans la base:"
   ]
  },
  {
   "cell_type": "markdown",
   "metadata": {},
   "source": [
    "$$\n",
    "\\boldsymbol{x}_0 = \\sum_{i=1}^n c_i \\boldsymbol{v}_i \\,,\n",
    "$$"
   ]
  },
  {
   "cell_type": "markdown",
   "metadata": {},
   "source": [
    "ainsi en supposant que $c_1\\neq0$:"
   ]
  },
  {
   "cell_type": "markdown",
   "metadata": {},
   "source": [
    "$$\n",
    "A^k \\boldsymbol{x}_0 = \\sum_{i=1}^n c_i \\lambda_i^k \\boldsymbol{v}_i\n",
    "= c_1 \\lambda_1^k \\left(\\boldsymbol{v}_1 + \\sum_{i=2}^n \\frac{c_i}{c_1} \\left(\\frac{\\lambda_i}{\\lambda_1}\\right)^k \\boldsymbol{v}_i \\right) .\n",
    "$$"
   ]
  },
  {
   "cell_type": "markdown",
   "metadata": {},
   "source": [
    "Vu que $|\\lambda_1| > |\\lambda_i|$ pour $i\\geq2$, alors:"
   ]
  },
  {
   "cell_type": "markdown",
   "metadata": {},
   "source": [
    "$$\n",
    "\\lim_{k\\to\\infty}\\left(\\boldsymbol{v}_1 + \\sum_{i=2}^n \\frac{c_i}{c_1} \\left(\\frac{\\lambda_i}{\\lambda_1}\\right)^k \\boldsymbol{v}_i \\right) = \\boldsymbol{v}_1 \\,,\n",
    "$$"
   ]
  },
  {
   "cell_type": "markdown",
   "metadata": {},
   "source": [
    "puisque $\\left|\\frac{\\lambda_i}{\\lambda_1}\\right| < 1$.\n",
    "Par conséquent,"
   ]
  },
  {
   "cell_type": "markdown",
   "metadata": {},
   "source": [
    "$$\n",
    "\\lim_{k\\to\\infty}\\operatorname{sign}{(\\lambda_1)}^k \\boldsymbol{x}_k = \\lim_{k\\to\\infty} \\left(\\frac{\\lambda_1}{|\\lambda_1|}\\right)^k \\frac{A^k \\boldsymbol{x}_0}{\\Vert A^k \\boldsymbol{x}_0\\Vert} = \\operatorname{sign}{c_1} \\frac{\\boldsymbol{v}_1}{\\Vert\\boldsymbol{v}_1\\Vert} \\,.\n",
    "$$"
   ]
  },
  {
   "cell_type": "markdown",
   "metadata": {},
   "source": [
    "En choisissant $\\boldsymbol{x}_0$ aléatoirement, alors avec probabilité un $c_1\\neq0$ et donc la suite $(\\boldsymbol{x}_k)_ {k\\in\\mathbb{N}}$ converge à un signe près vers un vecteur propre normalisé associé à la valeur propre de plus grand module.\n",
    "\n",
    "**a)**\n",
    "Définir une fonction `puissance(A, x0, k)` qui retourne $\\boldsymbol{x}_k$. Avec cette fonction, déterminer le plus grand vecteur propre de la matrice:"
   ]
  },
  {
   "cell_type": "markdown",
   "metadata": {},
   "source": [
    "$$\n",
    "A = \\begin{pmatrix}0.5 & 0.5\\\\ \n",
    "0.2 & 0.8\n",
    "\\end{pmatrix} \\,.\n",
    "$$"
   ]
  },
  {
   "cell_type": "markdown",
   "metadata": {},
   "source": [
    "\n",
    "**Réponse:**\n",
    "Le plus grand vecteur propre est $\\pm(0.70710678, 0.70710678)$.\n",
    "\n"
   ]
  },
  {
   "cell_type": "markdown",
   "metadata": {},
   "source": [
    "\n",
    "**b)**\n",
    "Déterminer la valeur propre associée au vecteur propre précédent.\n",
    "\n",
    "**Indication:**\n",
    "Si $\\boldsymbol{v}$ est un vecteur propre normalisé de $A$, alors la valeur propre associée est donnée par $\\lambda = A\\boldsymbol{v}\\cdot\\boldsymbol{v}$.\n",
    "\n"
   ]
  },
  {
   "cell_type": "markdown",
   "metadata": {},
   "source": [
    "\n",
    "**c)**\n",
    "Écrire un programme permettant de calculer automatiquement la valeur propre de plus grand module et le vecteur propre associé d'une matrice carrée avec une certaine précision donnée.\n",
    "\n"
   ]
  },
  {
   "cell_type": "markdown",
   "metadata": {},
   "source": [
    "\n",
    "**d)**\n",
    "Regarder la documentation de Numpy pour trouver les fonctions permettant de calculer les vecteurs propres et valeurs propres d'une matrice.\n",
    "\n"
   ]
  },
  {
   "cell_type": "markdown",
   "metadata": {},
   "source": [
    "\n",
    "**e)**\n",
    "Comparer la rapidité du code précédent et des fonctions Numpy pour des matrices de tailles $n\\times n$ avec $n=10,100,1 000$.\n",
    "\n",
    "**Indication:**\n",
    "En prenant par exemple des matrices dont les coefficients sont générés aléatoirement dans l'intervalle $(0,1)$, le théorème de Perron-Frobenius assure l'existence d'une unique valeur propre de module maximal, et celle-ci est positive.\n",
    "\n"
   ]
  }
 ],
 "metadata": {
  "kernelspec": {
   "display_name": "Python 3 (ipykernel)",
   "language": "python",
   "name": "python3"
  },
  "language_info": {
   "codemirror_mode": {
    "name": "ipython",
    "version": 3
   },
   "file_extension": ".py",
   "mimetype": "text/x-python",
   "name": "python",
   "nbconvert_exporter": "python",
   "pygments_lexer": "ipython3",
   "version": "3.9.7"
  }
 },
 "nbformat": 4,
 "nbformat_minor": 4
}
