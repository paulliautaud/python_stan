{
 "cells": [
  {
   "cell_type": "markdown",
   "metadata": {},
   "source": [
    "# Programmation Python"
   ]
  },
  {
   "cell_type": "markdown",
   "metadata": {},
   "source": [
    "[**Paul Liautaud**](https://perso.lpsm.paris/~liautaud) à [Sorbonne Université](http://www.sorbonne-universite.fr/)"
   ]
  },
  {
   "cell_type": "markdown",
   "metadata": {},
   "source": [
    "# Algèbre Linéaire 2 - Objectif Concours"
   ]
  },
  {
   "cell_type": "markdown",
   "metadata": {},
   "source": [
    "<div id=\"ch:algebre\"></div>\n",
    "\n",
    "Ce TP permet de faire un résumé des outils essentiels au traitement de problèmes classiques en *Algèbre Linéaire*.\n",
    "\n",
    ">**Concepts abordés:**\n",
    ">* Manipulations de vecteurs et matrices à l'aide de Numpy \n",
    ">* Module `linalg` de Numpy\n",
    ">* Résolution de systèmes par pivot de Gauss, rang d'un.e sytème/matrice\n",
    ">* Réduction d'endomorphismes : notions de spectre, valeurs et vecteurs propres"
   ]
  },
  {
   "cell_type": "markdown",
   "metadata": {},
   "source": [
    "# Exercice 1"
   ]
  },
  {
   "cell_type": "markdown",
   "metadata": {},
   "source": [
    "Sans rentrer les coefficients un à un, déclarer les matrices suivantes à l'aide de Numpy : $$A = \\begin{pmatrix} 5 &3 &3 \\\\ 3& 5 & 3 \\\\ 3 &3 &5\\end{pmatrix}, \\quad B= \\begin{pmatrix} 1 &0 &0 & 0\\\\ 0 &1 &0 & 0\\\\0 &0 &1 & 0\\\\0 &0 &0 & 1\\end{pmatrix}.$$"
   ]
  },
  {
   "cell_type": "code",
   "execution_count": null,
   "metadata": {},
   "outputs": [],
   "source": []
  },
  {
   "cell_type": "markdown",
   "metadata": {},
   "source": [
    "# Exercice 2"
   ]
  },
  {
   "cell_type": "markdown",
   "metadata": {},
   "source": [
    "Que vaut le produit d'un vecteur colonne $\\begin{pmatrix} a_1 \\\\ \\vdots \\\\ a_n\\end{pmatrix}$ par le vecteur ligne $\\begin{pmatrix} 1 & \\cdots & 1 \\end{pmatrix}$ ?\n",
    "\n",
    "En déduire une ligne de commande qui crée la matrice $$M = \\begin{pmatrix} 1 &1 & \\cdots & 1\\\\ 2 &2 & \\cdots & 2 \\\\ \\vdots & \\vdots & &\\vdots \\\\ 10 &10 & \\cdots & 10 \\end{pmatrix} \\in \\mathcal M_{10}(\\mathbb R).$$"
   ]
  },
  {
   "cell_type": "code",
   "execution_count": null,
   "metadata": {},
   "outputs": [],
   "source": []
  },
  {
   "cell_type": "markdown",
   "metadata": {},
   "source": [
    "# Exercice 3\n",
    "\n",
    "**1.** On définit la matrice $A = \\begin{pmatrix} 1& 1& 2& 0 \\\\ 1 & -1 & 0 & -2 \\\\ 0& 1& 1& 1 \\\\ 1& 0& 1& -1\\end{pmatrix}$.\n",
    "\n",
    "**1.a)** Déclarer la matrice $A$.\n",
    "\n",
    "**1.b)** Appliquer l'algorithme du pivot de Gauss à l'aide de Python (on effectuera chacune des opérations élémentaires dans le script). En déduire le rang.\n",
    "\n",
    "**1.c)** Vérifier votre résultat à l'aide de la fonction `matrix_rank` du module `linalg`."
   ]
  },
  {
   "cell_type": "code",
   "execution_count": null,
   "metadata": {},
   "outputs": [],
   "source": []
  },
  {
   "cell_type": "markdown",
   "metadata": {},
   "source": [
    "**2.** On considère à présent la matrice $B = \\begin{pmatrix} 1 &1 &0 \\\\ 1 &-1 &1 \\\\ 1 &0 &1\\end{pmatrix}$.\n",
    "\n",
    "**2. a)** Déclarer la matrice $B$. Vérifier que $B$ est inversible et calculer son inverse à l'aide de Python.\n",
    "\n",
    "**2. b)** Résoudre à l'aide de Python le système $$\\begin{cases}x+y &= 1 \\\\ x-y+z &=3 \\\\ x+z &= -2\\end{cases}.$$"
   ]
  },
  {
   "cell_type": "code",
   "execution_count": null,
   "metadata": {},
   "outputs": [],
   "source": []
  },
  {
   "cell_type": "markdown",
   "metadata": {},
   "source": [
    "# Problème (d'après EDHEC 2017)\n",
    "\n",
    "Dans ce problème, $n$ désigne un entier naturel strictement positif et $\\mathbb R_n[x]$ est l'espace vectoriel des polynômes à coefficients réels de degré inférieur ou égal à $n$.\n",
    "\n",
    "On note $\\mathcal B = (e_0, e_1, \\dots, e_n)$ la base canonique de $\\mathbb R_n[x]$. On rappelle alors que $e_0 = 1$ et, $\\forall 1 \\leq k \\leq n, e_k = x^k$.\n",
    "\n",
    "## Partie 1 - Étude d'une application définie sur $\\mathbb R_n[x]$\n",
    "\n",
    "On considère l'application $$\\varphi : P \\in \\mathbb R_n[x] \\mapsto \\varphi(P) = \\sum_{k=0}^n P^{(k)},$$ où $P^{(k)}$ désigne la dérivé d'ordre $k$ de $P$, avec la convention $P^{(0)} = P$.\n",
    "\n",
    "**1.** Montrer que $\\varphi$ est un endomorphisme de $\\mathbb R_n[x]$.\n",
    "\n",
    "**2.**\n",
    "**a)** Calculer $\\varphi(e_0)$ puis en déduire une valeur propre de $\\varphi$. <br>\n",
    "**b)** Montrer que : $$\\forall j \\in \\{1,\\dots, n\\}, \\quad \\varphi(e_j) - e_j \\in \\mathbb R_{j-1}[x].$$\n",
    "**c)** En dédurie que la matrice de $\\varphi$ dans la base $\\mathcal B$ est triangulaite et que la seule valeur propre de $\\varphi$ est celle trouvée à la question précédente. <br>\n",
    "**d)** Montrer que $\\varphi$ est un automorphisme de $\\mathbb R_n[x]$.\n",
    "\n",
    "**3.**\n",
    "**a)** Pour tout polynôme $P \\in \\mathbb R_n[x]$, calculer $\\varphi(P-P')$. <br>\n",
    "**b)** Déterminer $\\varphi^{-1}$, puis écrire la matrice de $\\varphi^{-1}$ dans la base $\\mathcal B$.\n",
    "**c)** Compléter la cellule de code suivante pour que la fonction `matrice_canonique` retourne la matrice de $\\varphi$ dans la base $\\mathcal B$ avec la valeur de $n$ donnée en argument."
   ]
  },
  {
   "cell_type": "code",
   "execution_count": null,
   "metadata": {},
   "outputs": [],
   "source": [
    "import numpy as np\n",
    "\n",
    "def matrice_canonique(n):\n",
    "    M = np.eye(n+1,n+1)\n",
    "    for k in range(1,n):\n",
    "        M[k,k+1] = -k\n",
    "    A = # TO DO\n",
    "    return # TO DO"
   ]
  },
  {
   "cell_type": "markdown",
   "metadata": {},
   "source": [
    "## Partie 2 - Étude d'une autre application définie sur $\\mathbb R_n[x]$\n",
    "\n",
    "Soit $x \\in \\mathbb R$.<br>\n",
    "**4. a)** Montrer que, pour tout entier naturel $k \\in \\mathbb N$, $\\int_{x}^{+\\infty} t^k \\exp(-t) \\, \\mathrm d t$ est convergente. <br>\n",
    "**b)** En déduire que, si $P$ est un polynôme de $\\mathbb R_n[x]$, alors l'intégrale $\\int_{x}^{+\\infty} P(t)\\exp(-t) \\, \\mathrm d t$ est convergente.\n",
    "\n",
    "**5. a)** Donner la valeur de l'intégrale $\\int_{x}^{+\\infty} \\exp(-t)\\, \\mathrm d t$. <br>\n",
    "**b)** Établir que pour tout entier naturel $k \\in \\mathbb N$, on a $$\\int_x^{+\\infty} t^k \\exp(-t) \\, \\mathrm d t = k! \\sum_{i=0}^k \\frac{x^i}{i!}\\exp(-x).$$\n",
    "\n",
    "**6. a)** En Numpy et pour un vecteur $u$, la commande `prod` renvoie le produit des éléments qui composent $u$ et la commande `cumprod` renvoie un vecteur de même taille que $u$ contenant les produits cumulés, i.e. la coordonnée $k$ est alors le produit des $k$ premiers éléments de $u$.<br>\n",
    "En utilisant l'égalité obtenue en **5.b)**, compléter le script ci-dessous afin de calculer la variable `s` contenant la valeur de l'intégrale $\\int_x^{+\\infty} t^k\\exp(-t) \\, \\mathrm d t$. Les valeurs de $x$ et $k$ étant saisies par l'utilisateur."
   ]
  },
  {
   "cell_type": "code",
   "execution_count": null,
   "metadata": {},
   "outputs": [],
   "source": [
    "import ... as ...\n",
    "k = int(input('Entrer la valeur de k:'))\n",
    "x = float(input('Entrer la valeur de x:'))\n",
    "ind = np.arange(1,k+1)\n",
    "p = np.prod(ind)\n",
    "u = ... / ...\n",
    "s = p * np.exp(-x) * ...\n",
    "print(s)"
   ]
  },
  {
   "cell_type": "markdown",
   "metadata": {},
   "source": [
    "**b)** Montrer, par changement de variable, que $\\int_{x}^{+\\infty} t^k\\exp(-t) \\, \\mathrm dt = \\exp(x) \\int_{0}^{+\\infty} (u+x)^k\\exp(-u) \\, \\mathrm du$. <br>\n",
    "En déduire les commandes manquantes dans le script suivant afin qu'il renvoie la valeur approchée de $\\int_{x}^{+\\infty} t^k \\exp(-t) \\, \\mathrm dt$ grâce à la méthode de Monte Carlo."
   ]
  },
  {
   "cell_type": "code",
   "execution_count": null,
   "metadata": {},
   "outputs": [],
   "source": [
    "k = int(input('Entrer la valeur de k:'))\n",
    "x = float(input('Entrer la valeur de x:'))\n",
    "Z = ...\n",
    "s = np.exp(-x)*np.mean(...)\n",
    "print(s)"
   ]
  },
  {
   "cell_type": "markdown",
   "metadata": {},
   "source": [
    "On considère maintenant l'application qui, à tout polynôme $P$ de $\\mathbb R_n[x]$, associe la fonction $F = \\Psi(P)$ définie par : $$\\forall x \\in \\mathbb R, \\quad F(x) = \\exp(x) \\int_{x}^{+\\infty} P(t)\\exp(-t) \\, \\mathrm dt.$$\n",
    "\n",
    "**7.a)** Montrer que $\\Psi$ est un endomorphisme de $\\mathbb R_[x]$. <br>\n",
    "**7.b)** Justifier que $F$ est de classe $\\mathcal C^1$ sur $\\mathbb R$ et donner une relation entre $F , F′ et P$. <br>\n",
    "**7.c)** Montrer que Ψ est un automorphisme de $\\mathbb R_n[x]$."
   ]
  },
  {
   "cell_type": "markdown",
   "metadata": {},
   "source": [
    "**8.** On considère un polynôme $P$ non nul, vecteur propre de $\\Psi$ pour une valeur propre $\\lambda$ non nulle.<br>\n",
    "**8.a)** Utiliser la relation obtenue en **7.b)** pour établir que $P' = \\frac{\\lambda -1}{\\lambda}P$. <br>\n",
    "**8.b)** En déduire, en considérant les degrés, que $\\lambda = 1$ est la seule valeur propre possible de $\\Psi$. <br>\n",
    "**8.c)** Montrer enfin que $\\lambda = 1$ est bien la seule valeur propre de $\\Psi$ (sans spécifier le sous espace propre associé). \n",
    "\n",
    "**9.a)** Montrer que les endomorphismes $\\varphi$ et $\\Psi$ sont égaux. <br>\n",
    "**9.b)** En déduire que, si $P$ est un polynôme de $\\mathbb R_n[x]$ et s'il existe un réel $a$ tel que pour tout réel $x \\geq a$, on a $P(x)\\geq 0$ alors : $$\\forall x \\geq a, \\quad \\sum_{i=0}^n P^{(i)}(x) \\geq 0.$$"
   ]
  }
 ],
 "metadata": {
  "kernelspec": {
   "display_name": "Python 3 (ipykernel)",
   "language": "python",
   "name": "python3"
  },
  "language_info": {
   "codemirror_mode": {
    "name": "ipython",
    "version": 3
   },
   "file_extension": ".py",
   "mimetype": "text/x-python",
   "name": "python",
   "nbconvert_exporter": "python",
   "pygments_lexer": "ipython3",
   "version": "3.9.7"
  }
 },
 "nbformat": 4,
 "nbformat_minor": 4
}
