{
 "cells": [
  {
   "cell_type": "markdown",
   "metadata": {},
   "source": [
    "# Programmation Python\n",
    "[**Paul Liautaud**](https://paulliautaud.github.io) à [Sorbonne Université](http://www.sorbonne-universite.fr/)"
   ]
  },
  {
   "cell_type": "markdown",
   "metadata": {},
   "source": [
    "$\\hookrightarrow$ Vous pouvez vous rediriger vers les [slides](https://paulliautaud.github.io/teaching/python/slides/01_python_basis_slides.html) du cours associé."
   ]
  },
  {
   "cell_type": "markdown",
   "metadata": {},
   "source": [
    "# Modélisation Aléatoire 1"
   ]
  },
  {
   "cell_type": "markdown",
   "metadata": {},
   "source": [
    "<div id=\"ch:structures\"></div>\n",
    "\n",
    "Pour simuler des lois de probabilité ou pour réaliser des échantillons en perspective d'analyses statistiques, Python propose de riches bibliothèques mention aléatoire, qu'il s'agisse d'univers entiers ou même réels. Le but  de ce chapitre est de manipuler les outils principaux de modélisation aléatoire et d'utiliser des fonctions incontournables et adaptées. La documentation détaillée sur l'aléatoire est disponible [ici](https://docs.python.org/fr/3/library/random.html) et [là](https://numpy.org/doc/stable/reference/random/).\n",
    "\n",
    "> **Concepts abordés:**\n",
    ">* nombres pseudo-aléatoires\n",
    ">* utilisation des fonctions de la bibliothèque `random`\n",
    ">* utilisation des fonctions du module `numpy.random`\n",
    ">* simulations de lois usuelles (Poisson, Exponentielle, Binomiale, ...)\n",
    ">* approche Monte-Carlo"
   ]
  },
  {
   "cell_type": "markdown",
   "metadata": {},
   "source": [
    "# Exercice 1 - Loi Binomiale"
   ]
  },
  {
   "cell_type": "markdown",
   "metadata": {},
   "source": [
    "<div id=\"exer:pb_1\"></div>\n",
    "\n",
    "Soit $X$ une variable aléatoire suivant la loi Binomiale $\\mathcal B (10 ; 0.8)$.\n",
    "La loi binomiale modélise la fréquence du nombre de succès obtenus lors de la répétition de plusieurs expériences aléatoires identiques et indépendantes.\n",
    "\n",
    "**a)** Rappeler la fonction de masse de la variable aléatoire $X$."
   ]
  },
  {
   "cell_type": "markdown",
   "metadata": {},
   "source": [
    "**b)** Écrire une fonction `Loi_Binom(k,n,p)` à 3 arguments (où $n, p$ sont les paramètres de la loi) et qui renvoie la fonction de masse de la loi de $X$ évaluée en $k \\geq 0$."
   ]
  },
  {
   "cell_type": "code",
   "execution_count": null,
   "metadata": {},
   "outputs": [],
   "source": []
  },
  {
   "cell_type": "markdown",
   "metadata": {},
   "source": [
    "**c)** Vérifier la bonne définition de votre fonction en la comparant à la fonction pré-définie [`numpy.random.binomial`](https://numpy.org/doc/stable/reference/random/generated/numpy.random.binomial.html#).\n",
    "On pourra effectuer des tests sur quelques valeurs de $k\\geq 0$."
   ]
  },
  {
   "cell_type": "code",
   "execution_count": null,
   "metadata": {},
   "outputs": [],
   "source": []
  },
  {
   "cell_type": "markdown",
   "metadata": {},
   "source": [
    "**d)** Montrer que $\\mathbb P\\left(\\left\\{X \\text{ paire}\\right\\}\\right) > \\mathbb P\\left(\\left\\{X \\text{ impaire}\\right\\}\\right)$."
   ]
  },
  {
   "cell_type": "code",
   "execution_count": null,
   "metadata": {},
   "outputs": [],
   "source": []
  },
  {
   "cell_type": "markdown",
   "metadata": {},
   "source": [
    "**e)** Déterminer, en utilisant la fonction `Loi_Binom`,\n",
    " le plus petit entier $k\\geq 0$ tel que $\\mathbb P\\left(X \\leq k \\right) \\geq 0.87$. "
   ]
  },
  {
   "cell_type": "code",
   "execution_count": null,
   "metadata": {},
   "outputs": [],
   "source": []
  },
  {
   "cell_type": "markdown",
   "metadata": {},
   "source": [
    "**f)** Vérifier numériquement les valeurs théoriques de $\\mathbb E[X]$ et $\\mathbb V(X)$."
   ]
  },
  {
   "cell_type": "code",
   "execution_count": null,
   "metadata": {},
   "outputs": [],
   "source": []
  },
  {
   "cell_type": "markdown",
   "metadata": {},
   "source": [
    "# Exercice 2 - Une autre loi"
   ]
  },
  {
   "cell_type": "code",
   "execution_count": null,
   "metadata": {},
   "outputs": [],
   "source": []
  }
 ],
 "metadata": {
  "kernelspec": {
   "display_name": "Python 3 (ipykernel)",
   "language": "python",
   "name": "python3"
  },
  "language_info": {
   "codemirror_mode": {
    "name": "ipython",
    "version": 3
   },
   "file_extension": ".py",
   "mimetype": "text/x-python",
   "name": "python",
   "nbconvert_exporter": "python",
   "pygments_lexer": "ipython3",
   "version": "3.9.7"
  }
 },
 "nbformat": 4,
 "nbformat_minor": 4
}
