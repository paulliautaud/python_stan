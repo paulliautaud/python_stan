{
 "cells": [
  {
   "cell_type": "markdown",
   "metadata": {},
   "source": [
    "# Programmation Python  pour les mathématiques"
   ]
  },
  {
   "cell_type": "markdown",
   "metadata": {},
   "source": [
    "**Julien Guillod**, [Sorbonne Université](http://www.sorbonne-universite.fr/),\n",
    "Licence <a href=\"https://creativecommons.org/licenses/by-nc-nd/4.0/\">CC BY-NC-ND</a>\n",
    "\n",
    "L'entier des chapitres est disponible au format\n",
    "[HTML](https://python.guillod.org/) et [PDF](https://python.guillod.org/python.pdf).\n",
    "Ce notebook peut également être exécuté sur [GESIS](https://notebooks.gesis.org/binder/v2/gh/guillod/python/master?urlpath=lab/tree/chap01.ipynb)."
   ]
  },
  {
   "cell_type": "markdown",
   "metadata": {},
   "source": [
    "# 1 Introduction"
   ]
  },
  {
   "cell_type": "markdown",
   "metadata": {},
   "source": [
    "<div id=\"ch:introduction\"></div>\n",
    "\n",
    "Le but des exercices de ce recueil n'est pas d'apprendre la syntaxe du langage Python ni ses subtilités, mais de se focaliser sur son utilisation pratique dans différents domaines des mathématiques: les suites, l'algèbre linéaire, l'intégration, la théorie des graphes, la recherche de zéros de fonctions, les probabilités, les statistiques, les équations différentielles, le calcul symbolique, et la théorie des nombres. La résolution des exercices proposés devrait permettre d'avoir une bonne vision d'ensemble des possibilités d'utilisation de la programmation dans les mathématiques et d'être à même de résoudre des problèmes mathématiques complexes avec l'aide de la programmation.\n",
    "Les exercices plus difficiles sont indiqués par des points d'exclamation:\n",
    "* <span style=\"color:red\">!</span> : plus long ou plus difficile;\n",
    "\n",
    "* <span style=\"color:red\">!!</span> : passablement plus long et complexe;\n",
    "\n",
    "* <span style=\"color:red\">!!!</span> : défi.\n",
    "\n",
    "Le séparateur décimal utilisé est le point et non pas la virgule, afin de se conformer avec l'usage international employé par Python et éviter les confusions."
   ]
  },
  {
   "cell_type": "markdown",
   "metadata": {},
   "source": [
    "# 1.1 Pourquoi Python ?"
   ]
  },
  {
   "cell_type": "markdown",
   "metadata": {},
   "source": [
    "Python est un langage généraliste de programmation interprété qui a la particularité d'être très lisible et pragmatique. Il dispose d'une très grosse base de modules externes, notamment scientifiques, qui le rend particulièrement attractif pour programmer des problèmes mathématiques. Le fait que Python soit un langage interprété le rend plus lent que les langages compilés, mais il assure en revanche une grande rapidité de développement qui permet à l'humain de travailler un peu moins tandis que l'ordinateur devra travailler un peu plus. Cette particularité a fait que Python est devenu l'un des principaux langages de programmation utilisés par les scientifiques."
   ]
  },
  {
   "cell_type": "markdown",
   "metadata": {},
   "source": [
    "# 1.2 Prérequis"
   ]
  },
  {
   "cell_type": "markdown",
   "metadata": {},
   "source": [
    "Les prérequis sont de connaître les bases du langage Python, par exemple telles qu'enseignées dans le cours [1IN001](http://www-licence.ufr-info-p6.jussieu.fr/lmd/licence/2021/ue/LU1IN001-2021oct/) dispensé à Sorbonne Université. Les personnes ne connaissant pas bien les bases du langage Python sont fortement incitées à suivre le MOOC (Massive Open Online Course) *[Python 3 : des fondamentaux aux concepts avancés du langage](https://www.fun-mooc.fr/fr/cours/python-3-des-fondamentaux-aux-concepts-avances-du-langage/)* disponible sur le site de [France Université Numérique](https://www.fun-mooc.fr/).\n",
    "En dehors des périodes d'ouverture du MOOC, les vidéos du MOOC sont disponibles sur [YouTube](https://www.youtube.com/channel/UCIlUBOXnXjxdjmL_atU53kA/).\n",
    "\n",
    "Par ailleurs la réalisation des exercices demande d'avoir accès à un ordinateur ou un service en ligne disposant de Python 3.6 (ou plus récent) complété par les modules suivants: `numpy`, `scipy`, `sympy`, `matplotlib`, `numba`, `networkx` et `pandas`. L'emploi d'un éditeur de code permettant l'écriture en Python est aussi vivement conseillé. Il est ici suggéré d'utiliser [Jupyter Lab](https://jupyterlab.readthedocs.io/), qui permet à la fois l'écriture des notebooks interactifs et des scripts et également l'ajout de ses propres solutions en dessous des énoncés, ce qui est très pratique. Il n'est pas indispensable d'utiliser Jupyter Lab, d'autres environnements sont aussi adaptés, notamment [Spyder](https://www.spyder-ide.org/) ou [Jupyter Notebook](https://jupyter-notebook.readthedocs.io/).\n",
    "\n",
    "Les sections suivantes décrivent comment installer et lancer l'environnement Python ou l'utiliser en ligne sans installation."
   ]
  },
  {
   "cell_type": "markdown",
   "metadata": {},
   "source": [
    "# 1.3 Documentation"
   ]
  },
  {
   "cell_type": "markdown",
   "metadata": {},
   "source": [
    "Il n'est généralement pas utile (ni souhaitable) de connaître toutes les fonctions et subtilités du langage Python lors d'une utilisation occasionnelle. Par contre il est indispensable de savoir utiliser la documentation de manière efficace. La documentation officielle est disponible à l'adresse <https://docs.python.org/>. La langue et la version peuvent être sélectionnées en haut à gauche. Il est fortement conseillé de regarder comment la documentation est écrite et d'apprendre à l'utiliser."
   ]
  },
  {
   "cell_type": "markdown",
   "metadata": {},
   "source": [
    "# 1.4 Installation"
   ]
  },
  {
   "cell_type": "markdown",
   "metadata": {},
   "source": [
    "Les personnes ne pouvant ou ne voulant pas installer Python peuvent directement se rendre à la section [1.5 Lancement de Jupyter Lab](#sec:intro-lancement) pour des alternatives disponibles en ligne sans installation.\n",
    "\n",
    "Il existe essentiellement quatre façons d'installer Python et les modules requis pour réaliser les exercices:\n",
    "\n",
    "* **Anaconda** est une distribution Python complète, c'est-à-dire qu'elle installe directement une très grande quantité de modules (beaucoup plus que nécessaire pour faire les exercices suivants). L'avantage de cette installation est qu'elle est très simple; son désavantage est qu'elle prend beaucoup d'espace disque. C'est la méthode à privilégier si vous êtes sous Windows ou MacOS et que vous n'avez pas de problème d'espace disque.\n",
    "\n",
    "* **Miniconda** est une version légère d'Anaconda, qui installe par défaut uniquement la base. L'avantage est qu'elle prend peu d'espace disque, mais elle requiert une action supplémentaire pour installer les modules requis pour faire les exercices. C'est la méthode à privilégier si vous êtes sous Windows ou MacOS et que vous avez peu d'espace disque disponible.\n",
    "\n",
    "* **Dépôts Linux:** la plupart des distributions Linux permettent d'installer Python et les modules de base directement à partir des dépôts de paquets qui les accompagnent. C'est la méthode privilégiée sous Linux.\n",
    "\n",
    "* **Pip** est un gestionnaire de paquets pour Python. C'est la méthode à privilégier pour ajouter un module si Python est déjà installé par votre système d'exploitation, et que ce module n'est pas inclus dans les paquets de votre distribution. Cette méthode permet une gestion plus fine et avancée des modules installés que ce qui est proposé avec les méthodes précédentes."
   ]
  },
  {
   "cell_type": "markdown",
   "metadata": {},
   "source": [
    "### Installation avec Anaconda"
   ]
  },
  {
   "cell_type": "markdown",
   "metadata": {},
   "source": [
    "La façon la plus simple d'installer Python 3 et toutes les dépendances nécessaires sous Windows et MacOS est d'installer [Anaconda](https://anaconda.org/). Le désavantage d'Anaconda est que son installation prend beaucoup d'espace disque car énormément de modules sont installés par défaut. Les procédures d'installation détaillées selon chaque système d'exploitation sont décrites à l'adresse: <https://docs.anaconda.com/anaconda/install/>. En résumé la procédure d'installation est la suivante:\n",
    "\n",
    "1. Télécharger Anaconda pour Python 3 à l'adresse: <https://www.anaconda.com/products/individual#Downloads>.\n",
    "\n",
    "2. Double-cliquer sur le fichier téléchargé pour lancer l'installation d'Anaconda, puis suivre la procédure d'installation (il n'est pas nécessaire d'installer VS Code).\n",
    "\n",
    "3. Une fois l'installation terminée, lancer Anaconda Navigator à partir du menu démarrer ou de la liste des applications."
   ]
  },
  {
   "cell_type": "markdown",
   "metadata": {},
   "source": [
    "### Installation avec Miniconda"
   ]
  },
  {
   "cell_type": "markdown",
   "metadata": {},
   "source": [
    "La distribution [Miniconda](https://docs.conda.io/miniconda.html) présente l'avantage sur Anaconda de prendre peu d'espace disque, au prix de devoir installer les modules nécessaires manuellement. La procédure d'installation rapide est la suivante:\n",
    "\n",
    "1. Télécharger Miniconda pour Python 3 à l'adresse: <https://docs.conda.io/miniconda.html>.\n",
    "2. Double-cliquer sur le fichier téléchargé pour lancer l'installation de Miniconda, puis suivre la procédure d'installation.\n",
    "3. Une fois l'installation terminée, lancer Anaconda Prompt à partir du menu Démarrer ou de la liste des applications.\n",
    "4. Dans le terminal, taper la commande:\n",
    "        conda install anaconda-navigator numpy scipy sympy matplotlib numba networkx pandas jupyterlab\n",
    "et confirmer l'installation des dépendances."
   ]
  },
  {
   "cell_type": "markdown",
   "metadata": {},
   "source": [
    "### Installation à partir des dépôts"
   ]
  },
  {
   "cell_type": "markdown",
   "metadata": {},
   "source": [
    "La plupart des distributions Linux permettent d'installer facilement Python et les modules les plus standard directement à partir des dépôts qu'elles incluent. La procédure suivante concerne Ubuntu, mais s'adapte facilement aux autres distributions.\n",
    "\n",
    "1. Installer Python 3:\n",
    "        sudo apt install python3 python-pip3\n",
    "2. Installer les modules `numpy`, `scipy`, `sympy`, `matplotlib`, `numba`, `networkx` et `pandas`:\n",
    "        sudo apt install python3-numpy python3-scipy python3-sympy python3-matplotlib python3-numba python3-networkx python3-pandas\n",
    "3. Jupyter Lab n'étant pas disponible dans les paquets d'Ubuntu, il faut l'installer avec Pip:\n",
    "        pip3 install jupyterlab\n",
    "\n",
    "**Remarque:**\n",
    "Suivant les systèmes d'exploitation il faut parfois remplacer la commande `pip3` par `pip`. Si vous rencontrez un problème de permissions lors de l'exécution de ces commandes, il faut probablement rajouter `--user` à la fin de la commande précédente."
   ]
  },
  {
   "cell_type": "markdown",
   "metadata": {},
   "source": [
    "### Installation avancée avec Pip"
   ]
  },
  {
   "cell_type": "markdown",
   "metadata": {},
   "source": [
    "La procédure suivante décrit l'installation manuelle de modules avec le gestionnaire [Pip](https://pip.pypa.io/en/stable/).\n",
    "\n",
    "1. Installer Python depuis l'adresse: <https://www.python.org/downloads/>.\n",
    "2. Installer Pip depuis l'adresse: <https://pip.pypa.io/en/stable/installation/>\n",
    "3. Installer les modules requis en tapant la ligne de commande suivante dans un terminal:\n",
    "        pip3 install numpy scipy sympy matplotlib numba networkx pandas jupyterlab\n",
    "**Remarque:**\n",
    "Suivant les systèmes d'exploitation il faut remplacer la commande `pip3` par `pip`. Si vous rencontrez un problème de permissions lors de l'exécution de ces commandes, il faut probablement rajouter `--user` à la fin de la commande précédente."
   ]
  },
  {
   "cell_type": "markdown",
   "metadata": {},
   "source": [
    "# 1.5 Lancement de Jupyter Lab"
   ]
  },
  {
   "cell_type": "markdown",
   "metadata": {},
   "source": [
    "<div id=\"sec:intro-lancement\"></div>"
   ]
  },
  {
   "cell_type": "markdown",
   "metadata": {},
   "source": [
    "### Avec Anaconda Navigator"
   ]
  },
  {
   "cell_type": "markdown",
   "metadata": {},
   "source": [
    "Si Anaconda ou Miniconda a été installé, il suffit de lancer Anaconda Navigator et de cliquer sur l'icône «jupyterlab»:\n",
    "\n",
    "<center><img src=\"https://python.guillod.org/fig/anaconda.png\" style=\"width:90%;max-width:900px;\"></center>"
   ]
  },
  {
   "cell_type": "markdown",
   "metadata": {},
   "source": [
    "### En ligne de commande"
   ]
  },
  {
   "cell_type": "markdown",
   "metadata": {},
   "source": [
    "Pour lancer Jupyter Lab en ligne de commande, il faut taper `jupyter lab` dans un terminal. Pour quitter, il faut cliquer sur «Shutdown» dans le menu «File» de la fenêtre Jupyter Lab. Il est aussi possible de taper `Ctrl+C` suivi de `y` (en anglais) ou `o` (en français) dans le terminal où la commande `jupyter lab` a été exécutée."
   ]
  },
  {
   "cell_type": "markdown",
   "metadata": {},
   "source": [
    "### Sur le bureau de l'UTES"
   ]
  },
  {
   "cell_type": "markdown",
   "metadata": {},
   "source": [
    "**Avertissement:**\n",
    "Disponible seulement pour les personnes disposant d'un accès informatique à Sorbonne Université.\n",
    "\n",
    "Aller sur le site de l'[UTES](https://lutes.upmc.fr/bdl-ext.php) puis cliquer sur l'icône correspondante à votre système d'exploitation et suivez les instructions pour vous connecter au bureau à distance.\n",
    "\n",
    "Pour lancer Jupyter Lab une fois connecté au bureau de l'UTES:\n",
    "* cliquer sur la loupe située en haut;\n",
    "\n",
    "* taper `jupyter lab` dans le champs de rechercher suivi de la touche `ENTRÉE`;\n",
    "\n",
    "* cliquer sur «JUPYTER LAB POUR PYTHON 3.6»;\n",
    "\n",
    "* ne pas fermer la fenêtre noire avant d'avoir terminé de travailler sous Jupyter Lab."
   ]
  },
  {
   "cell_type": "markdown",
   "metadata": {},
   "source": [
    "### En ligne sans installation"
   ]
  },
  {
   "cell_type": "markdown",
   "metadata": {},
   "source": [
    "Pour les personnes ne pouvant ou ne voulant pas installer Python et les dépendances nécessaires sur leur propre ordinateur et n'ayant pas accès au bureau de l'UTES, il est possible d'utiliser Jupyter Lab en ligne avec GESIS en cliquant [ici](https://notebooks.gesis.org/binder/v2/gh/guillod/python/master?urlpath=lab/tree/chap01.ipynb).\n",
    "Aucun compte n'est nécessaire mais les documents stockés sans compte utilisateur sont automatiquement effacés donc il faut impérativement les sauvegarder sur votre propre ordinateur avant de quitter. Il est également possible de créer un compte utilisateur sur GESIS à l'adresse <https://notebooks.gesis.org/hub/>, ce qui permet ensuite de sauvegarder vos documents. Une fois authentifié sur GESIS, entrer les paramètres suivants pour avoir accès aux énoncés des exercices:\n",
    "\n",
    "<center><img src=\"https://python.guillod.org/fig/gesis.png\" style=\"width:90%;max-width:900px;\"></center>\n",
    "\n",
    "Pour utiliser Jupyter Lab plutôt que Jupyter Nootebook sur GESIS, il suffit de remplacer `tree` par `lab` à la fin de l'URL.\n",
    "\n",
    "Sinon différents services offrent la possibilité d'utiliser gratuitement Jupyter Lab après création d'un compte:\n",
    "* [CoCalc](https://cocalc.com/)\n",
    "\n",
    "* [Google Colaboratory](https://colab.research.google.com/)"
   ]
  },
  {
   "cell_type": "markdown",
   "metadata": {},
   "source": [
    "# 1.6 Utilisation de Jupyter Lab"
   ]
  },
  {
   "cell_type": "markdown",
   "metadata": {},
   "source": [
    "Une fois Jupyter Lab lancé, la fenêtre suivante doit apparaître dans un navigateur:\n",
    "\n",
    "<center><img src=\"https://python.guillod.org/fig/jupyter.png\" style=\"width:90%;max-width:900px;\"></center>\n",
    "\n",
    "Jupyter Lab permet essentiellement de traiter trois types de documents: les **notebooks**, les **scripts** et les **terminaux**. Un notebook est constitué de cellules qui peuvent contenir soit du code soit du texte au format Markdown. Les cellules peuvent être évaluées de manière interactive à la demande, ce qui permet une grande flexibilité. Un script Python est simplement un fichier texte contenant des instructions Python. Il s'exécute en entier de A à Z et il n'est pas possible d'interagir interactivement avec lui pendant son exécution (à moins que cela n'ait été explicitement programmé). Pour exécuter un script python il est nécessaire d'ouvrir un terminal.\n",
    "\n",
    "Un notebook est composé de cellules, ces dernières pouvant être principalement de deux types: des cellules de code et des cellules de texte, comme représenté sur la figure suivante.\n",
    "Les cellules de texte peuvent contenir des formules LaTeX.\n",
    "\n",
    "<center><img src=\"https://python.guillod.org/fig/jupyterlab.png\" style=\"width:90%;max-width:900px;\"></center>\n",
    "\n",
    "La documentation détaillée de Jupyter Lab est disponible [ici](https://jupyterlab.readthedocs.io/).\n",
    "\n",
    "**Commandes de base:**\n",
    "* Créer un nouveau fichier: cliquer sur le bouton `PLUS` situé en haut à gauche, puis choisir le type de fichier à créer.\n",
    "\n",
    "* Renommer un fichier: cliquer avec le second bouton de la souris sur le titre du notebook (soit dans l'onglet, soit dans la liste des fichiers).\n",
    "\n",
    "* Changer le type de cellules: menu déroulant permettant de choisir entre «Code» et «Markdown».\n",
    "\n",
    "* Exécuter une cellule: combinaison des touches `SHIFT+ENTRÉE`.\n",
    "\n",
    "* Exécuter un script: taper `python nomduscript.py` dans un terminal pour exécuter le script `nomduscript.py`.\n",
    "\n",
    "* Réorganiser les cellules: cliquer-déposer.\n",
    "\n",
    "* Juxtaposer des onglets: cliquer-déposer.\n",
    "\n",
    "**Remerciements:** Merci à Johann Faouzi, Nicolas Lantos et Marie Postel pour leurs relectures attentives de ce recueil et pour les nombreuses corrections et suggestions. Merci également à Cédric Boutillier, Cindy Guichard et Raphaël Zanella pour avoir pointé différentes erreurs."
   ]
  }
 ],
 "metadata": {
  "kernelspec": {
   "display_name": "Python 3",
   "language": "python",
   "name": "python3"
  },
  "language_info": {
   "codemirror_mode": {
    "name": "ipython",
    "version": 3
   },
   "file_extension": ".py",
   "mimetype": "text/x-python",
   "name": "python",
   "nbconvert_exporter": "python",
   "pygments_lexer": "ipython3",
   "version": "3.8.5"
  }
 },
 "nbformat": 4,
 "nbformat_minor": 4
}